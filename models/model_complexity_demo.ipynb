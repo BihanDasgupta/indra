{
 "cells": [
  {
   "cell_type": "markdown",
   "metadata": {},
   "source": [
    "# Model complexity, context specification and assembly policies\n",
    "In this demo we explore the effects of specified conditions on Agents (e.g. bound conditions, modification conditions)  and assembly policies on the combinatorial complexity of dynamical models.\n",
    "\n",
    "First, we import INDRA's TRIPS input API and PySB model assembler."
   ]
  },
  {
   "cell_type": "code",
   "execution_count": null,
   "metadata": {
    "collapsed": true
   },
   "outputs": [],
   "source": [
    "from indra import trips\n",
    "from indra.assemblers import PysbAssembler\n",
    "\n",
    "# Below is some bookkeeping code needed to display reaction network graphs\n",
    "%matplotlib inline\n",
    "from pysb.tools import render_reactions\n",
    "import pygraphviz, subprocess\n",
    "import matplotlib.image as mpimg\n",
    "import matplotlib.pyplot as plt\n",
    "def draw_reaction_network(model):\n",
    "    pygraphviz.AGraph(render_reactions.run(model)).draw('model.dot', prog='dot')\n",
    "    subprocess.call('dot -T png -o model.png model.dot'.split(' '))\n",
    "    img = mpimg.imread('model.png')\n",
    "    plt.figure(figsize=(50, 50))\n",
    "    plt.imshow(img)\n",
    "    plt.xticks([])\n",
    "    plt.yticks([])"
   ]
  },
  {
   "cell_type": "markdown",
   "metadata": {},
   "source": [
    "## Model1: RAF to ERK without specifying agent context\n",
    "In the first case, two binding events and a phosphorylation is described with no additional context specified on any of the proteins."
   ]
  },
  {
   "cell_type": "code",
   "execution_count": null,
   "metadata": {
    "collapsed": true
   },
   "outputs": [],
   "source": [
    "tp = trips.process_text('RAF binds Vemurafenib, RAF phosphorylates MEK and MEK phosphorylates ERK.')"
   ]
  },
  {
   "cell_type": "markdown",
   "metadata": {},
   "source": [
    "This yields 3 INDRA Statements, as follows. Here empty parentheses after the Agent names indicate that there is no additional context specified on them."
   ]
  },
  {
   "cell_type": "code",
   "execution_count": null,
   "metadata": {},
   "outputs": [],
   "source": [
    "tp.statements"
   ]
  },
  {
   "cell_type": "markdown",
   "metadata": {},
   "source": [
    "### Assembly with one-step policy\n",
    "We now assemble this model using the default `one_step` policy and store it in the `model1_one` variable."
   ]
  },
  {
   "cell_type": "code",
   "execution_count": null,
   "metadata": {},
   "outputs": [],
   "source": [
    "pa = PysbAssembler()\n",
    "pa.add_statements(tp.statements)\n",
    "pa.make_model(policies='one_step')"
   ]
  },
  {
   "cell_type": "code",
   "execution_count": null,
   "metadata": {
    "collapsed": true
   },
   "outputs": [],
   "source": [
    "model1_one = pa.model"
   ]
  },
  {
   "cell_type": "markdown",
   "metadata": {},
   "source": [
    "The model has 4 Monomers and 4 Rules."
   ]
  },
  {
   "cell_type": "code",
   "execution_count": null,
   "metadata": {},
   "outputs": [],
   "source": [
    "model1_one.monomers"
   ]
  },
  {
   "cell_type": "code",
   "execution_count": null,
   "metadata": {},
   "outputs": [],
   "source": [
    "model1_one.rules"
   ]
  },
  {
   "cell_type": "markdown",
   "metadata": {},
   "source": [
    "Let's examine the last rule which corresponds to MEK phosphorylating ERK. Here, `MEK()` appears without additional context specified. This means that the rule will apply to **any** form of `MEK`, for instance, MEK that is unphosphorylated. \n",
    "\n",
    "We now generate the rule-based model into a reaction network form using PySB's interface to BioNetGen."
   ]
  },
  {
   "cell_type": "code",
   "execution_count": null,
   "metadata": {
    "collapsed": true
   },
   "outputs": [],
   "source": [
    "from pysb.bng import generate_equations\n",
    "generate_equations(model1_one)"
   ]
  },
  {
   "cell_type": "markdown",
   "metadata": {},
   "source": [
    "We can now plot the reaction network to examine the model. Each colored node of the reaction network is a molecular species, reactions are represented by gray nodes, and arrows show species being consumed and produced by each reaction."
   ]
  },
  {
   "cell_type": "code",
   "execution_count": null,
   "metadata": {},
   "outputs": [],
   "source": [
    "draw_reaction_network(model1_one)"
   ]
  },
  {
   "cell_type": "markdown",
   "metadata": {},
   "source": [
    "We see from the reaction network that RAF is able to phosphorylate MEK whether or not it is bound to Vemurafenib, and MEK phosphorylates ERK whether or not it is phosphorylated. "
   ]
  },
  {
   "cell_type": "markdown",
   "metadata": {},
   "source": [
    "### Assembly with two-step policy\n",
    "Let's now assemble the same model with the `two-step` policy. This will result in a model detailed model in which MEK first binds ERK reversibly, and phosphorylated ERK is released from the MEK-ERK complex. We will store this model in the `model1_two` variable."
   ]
  },
  {
   "cell_type": "code",
   "execution_count": null,
   "metadata": {},
   "outputs": [],
   "source": [
    "pa.make_model(policies='two_step')"
   ]
  },
  {
   "cell_type": "code",
   "execution_count": null,
   "metadata": {
    "collapsed": true
   },
   "outputs": [],
   "source": [
    "model1_two = pa.model"
   ]
  },
  {
   "cell_type": "code",
   "execution_count": null,
   "metadata": {},
   "outputs": [],
   "source": [
    "model1_two.monomers"
   ]
  },
  {
   "cell_type": "code",
   "execution_count": null,
   "metadata": {},
   "outputs": [],
   "source": [
    "for rule in model1_two.rules:\n",
    "    print(rule.rule_expression)"
   ]
  },
  {
   "cell_type": "markdown",
   "metadata": {},
   "source": [
    "We can now generate the reaction network for `model1_two` and inspect the reaction network that is created."
   ]
  },
  {
   "cell_type": "code",
   "execution_count": null,
   "metadata": {
    "collapsed": true
   },
   "outputs": [],
   "source": [
    "generate_equations(model1_two)"
   ]
  },
  {
   "cell_type": "code",
   "execution_count": null,
   "metadata": {},
   "outputs": [],
   "source": [
    "model1_two.species"
   ]
  },
  {
   "cell_type": "code",
   "execution_count": null,
   "metadata": {
    "scrolled": true
   },
   "outputs": [],
   "source": [
    "draw_reaction_network(model1_two)"
   ]
  },
  {
   "cell_type": "markdown",
   "metadata": {},
   "source": [
    "The two-step policy produced a total of 13 molecular species and 19 reactions. ERK now appears in 6 possible forms:\n",
    "- ERK(phospho='u', map2k=None)\n",
    "- ERK(phospho='p', map2k=None)\n",
    "- ERK(phospho='u', map2k=1) % MEK(phospho='u', map3k=None, mapk=1)\n",
    "- ERK(phospho='u', map2k=1) % MEK(phospho='p', map3k=None, mapk=1)\n",
    "- ERK(phospho='u', map2k=1) % MEK(phospho='u', map3k=2, mapk=1) % RAF(vemurafenib=None, map2k=2)\n",
    "- ERK(phospho='u', map2k=1) % MEK(phospho='u', map3k=2, mapk=1) % RAF(vemurafenib=3, map2k=2) % VEMURAFENIB(map3k=3)\n",
    "\n",
    "This means that our initial description allowed for the possibility of ERK, MEK, RAF and Vemurafenib all simultaneously being in a complex. While the existence of such a complex is not impossible, we can introduce additional assumptions to simplify the model."
   ]
  },
  {
   "cell_type": "markdown",
   "metadata": {},
   "source": [
    "## Model2: RAF to ERK with specifying context\n",
    "In this model we introduce additional assumptions (by explicitly making them part of the model definition) to the previous model. In particular, we add additional context on the agents to make causal structure explicit and simplify the model."
   ]
  },
  {
   "cell_type": "markdown",
   "metadata": {},
   "source": [
    "### Assembly with two-step policy"
   ]
  },
  {
   "cell_type": "code",
   "execution_count": null,
   "metadata": {
    "collapsed": true
   },
   "outputs": [],
   "source": [
    "tp = trips.process_text('RAF binds Vemurafenib. '\n",
    "                        'RAF not bound to Vemurafenib phosphorylates MEK. '\n",
    "                        'Phosphorylated MEK not bound to RAF phosphorylates ERK.')"
   ]
  },
  {
   "cell_type": "markdown",
   "metadata": {},
   "source": [
    "The INDRA Statements extracted by processing this text are shown below."
   ]
  },
  {
   "cell_type": "code",
   "execution_count": null,
   "metadata": {},
   "outputs": [],
   "source": [
    "tp.statements"
   ]
  },
  {
   "cell_type": "markdown",
   "metadata": {},
   "source": [
    "We see that some agents are now subject to additional conditions, for instance, `RAF(bound: [VEMURAFENIB, False])` specifies that RAF should not be bound to Vemurafenib in order to phosphorylate MEK.\n",
    "\n",
    "Let's not assemble the model and generate the reaction network."
   ]
  },
  {
   "cell_type": "code",
   "execution_count": null,
   "metadata": {},
   "outputs": [],
   "source": [
    "pa = PysbAssembler()\n",
    "pa.add_statements(tp.statements)\n",
    "pa.make_model(policies='two_step')"
   ]
  },
  {
   "cell_type": "code",
   "execution_count": null,
   "metadata": {
    "collapsed": true
   },
   "outputs": [],
   "source": [
    "generate_equations(pa.model)"
   ]
  },
  {
   "cell_type": "code",
   "execution_count": null,
   "metadata": {},
   "outputs": [],
   "source": [
    "draw_reaction_network(pa.model)"
   ]
  },
  {
   "cell_type": "markdown",
   "metadata": {},
   "source": [
    "The model is now significantly simpler with a total of 7 reactions down from 19 in the previous model."
   ]
  },
  {
   "cell_type": "markdown",
   "metadata": {},
   "source": [
    "### Assembly with Michaelis-Menten policy"
   ]
  },
  {
   "cell_type": "markdown",
   "metadata": {},
   "source": [
    "As an alternative to the two-step policy, we can assemble the same model using a simpler, Michaelis-Menten policy. In this case, both phosphorylation processes are effectively modeled as one-step but their kinetic rates will account for enzyme saturation."
   ]
  },
  {
   "cell_type": "code",
   "execution_count": null,
   "metadata": {},
   "outputs": [],
   "source": [
    "pa.make_model(policies='michaelis_menten')"
   ]
  },
  {
   "cell_type": "code",
   "execution_count": null,
   "metadata": {
    "collapsed": true
   },
   "outputs": [],
   "source": [
    "generate_equations(pa.model)"
   ]
  },
  {
   "cell_type": "code",
   "execution_count": null,
   "metadata": {},
   "outputs": [],
   "source": [
    "draw_reaction_network(pa.model)"
   ]
  },
  {
   "cell_type": "markdown",
   "metadata": {},
   "source": [
    "As we see, this model contains 7 individual species with 3 reactions in total."
   ]
  }
 ],
 "metadata": {
  "kernelspec": {
   "display_name": "Python 3",
   "language": "python",
   "name": "python3"
  },
  "language_info": {
   "codemirror_mode": {
    "name": "ipython",
    "version": 3
   },
   "file_extension": ".py",
   "mimetype": "text/x-python",
   "name": "python",
   "nbconvert_exporter": "python",
   "pygments_lexer": "ipython3",
   "version": "3.4.2"
  }
 },
 "nbformat": 4,
 "nbformat_minor": 1
}
