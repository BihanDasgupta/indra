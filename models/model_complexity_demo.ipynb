{
 "cells": [
  {
   "cell_type": "markdown",
   "metadata": {},
   "source": [
    "# Model complexity, context specification and assembly policies\n",
    "In this demo we explore the effects of specified conditions on Agents (e.g. bound conditions, modification conditions)  and assembly policies on the combinatorial complexity of dynamical models.\n",
    "\n",
    "First, we import INDRA's TRIPS input API and PySB model assembler."
   ]
  },
  {
   "cell_type": "code",
   "execution_count": 1,
   "metadata": {
    "collapsed": true
   },
   "outputs": [],
   "source": [
    "from indra import trips\n",
    "from indra.assemblers import PysbAssembler"
   ]
  },
  {
   "cell_type": "markdown",
   "metadata": {},
   "source": [
    "## Model1: RAS to ERK without specifying agent context\n",
    "In the first case, two binding events and a phosphorylation is described with no additional context specified on any of the proteins."
   ]
  },
  {
   "cell_type": "code",
   "execution_count": 16,
   "metadata": {
    "collapsed": true
   },
   "outputs": [],
   "source": [
    "tp = trips.process_text('RAS binds RAF and RAF binds MEK. MEK phosphorylates ERK.')"
   ]
  },
  {
   "cell_type": "markdown",
   "metadata": {},
   "source": [
    "This yields 3 INDRA Statements, as follows. Here empty parentheses after the Agent names indicate that there is no additional context specified on them."
   ]
  },
  {
   "cell_type": "code",
   "execution_count": 3,
   "metadata": {
    "collapsed": false
   },
   "outputs": [
    {
     "data": {
      "text/plain": [
       "[Complex(RAS(), RAF()), Complex(RAF(), MEK()), Phosphorylation(MEK(), ERK())]"
      ]
     },
     "execution_count": 3,
     "metadata": {},
     "output_type": "execute_result"
    }
   ],
   "source": [
    "tp.statements"
   ]
  },
  {
   "cell_type": "markdown",
   "metadata": {},
   "source": [
    "### Assembly with one-step policy\n",
    "We now assemble this model using the default `one_step` policy and store it in the `model1_one` variable."
   ]
  },
  {
   "cell_type": "code",
   "execution_count": 4,
   "metadata": {
    "collapsed": false
   },
   "outputs": [
    {
     "data": {
      "text/plain": [
       "<Model 'None' (monomers: 4, rules: 5, parameters: 9, expressions: 0, compartments: 0) at 0x7f7fe3929290>"
      ]
     },
     "execution_count": 4,
     "metadata": {},
     "output_type": "execute_result"
    }
   ],
   "source": [
    "pa = PysbAssembler()\n",
    "pa.add_statements(tp.statements)\n",
    "pa.make_model(policies='one_step')"
   ]
  },
  {
   "cell_type": "code",
   "execution_count": 5,
   "metadata": {
    "collapsed": true
   },
   "outputs": [],
   "source": [
    "model1_one = pa.model"
   ]
  },
  {
   "cell_type": "markdown",
   "metadata": {},
   "source": [
    "The model has 4 Monomers and 5 Rules."
   ]
  },
  {
   "cell_type": "code",
   "execution_count": 6,
   "metadata": {
    "collapsed": false
   },
   "outputs": [
    {
     "data": {
      "text/plain": [
       "ComponentSet([\n",
       " Monomer(u'RAF', [u'ras', u'map2k']),\n",
       " Monomer(u'RAS', [u'map3k']),\n",
       " Monomer(u'MEK', [u'map3k']),\n",
       " Monomer(u'ERK', [u'phospho'], {u'phospho': [u'u', u'p']}),\n",
       " ])"
      ]
     },
     "execution_count": 6,
     "metadata": {},
     "output_type": "execute_result"
    }
   ],
   "source": [
    "model1_one.monomers"
   ]
  },
  {
   "cell_type": "code",
   "execution_count": 7,
   "metadata": {
    "collapsed": false
   },
   "outputs": [
    {
     "data": {
      "text/plain": [
       "ComponentSet([\n",
       " Rule(u'RAS_RAF_bind', RAS(map3k=None) + RAF(ras=None) >> RAS(map3k=1) % RAF(ras=1), kf_rr_bind_1),\n",
       " Rule(u'RAS_RAF_dissociate', RAS(map3k=1) % RAF(ras=1) >> RAS(map3k=None) + RAF(ras=None), kr_rr_bind_1),\n",
       " Rule(u'RAF_MEK_bind', RAF(map2k=None) + MEK(map3k=None) >> RAF(map2k=1) % MEK(map3k=1), kf_rm_bind_1),\n",
       " Rule(u'RAF_MEK_dissociate', RAF(map2k=1) % MEK(map3k=1) >> RAF(map2k=None) + MEK(map3k=None), kr_rm_bind_1),\n",
       " Rule(u'MEK_phosphorylation_ERK_phospho', MEK() + ERK(phospho=u'u') >> MEK() + ERK(phospho=u'p'), kf_me_phosphorylation_1),\n",
       " ])"
      ]
     },
     "execution_count": 7,
     "metadata": {},
     "output_type": "execute_result"
    }
   ],
   "source": [
    "model1_one.rules"
   ]
  },
  {
   "cell_type": "markdown",
   "metadata": {},
   "source": [
    "Let's examine the last rule which corresponds to MEK phosphorylating ERK. Here, `MEK()` appears without additional context specified. This means that the rule will apply to **any** form of `MEK`, for instance, MEK that is bound to RAF. \n",
    "\n",
    "We now generate the rule-based model into a reaction network form using PySB's interface to BioNetGen."
   ]
  },
  {
   "cell_type": "code",
   "execution_count": 8,
   "metadata": {
    "collapsed": true
   },
   "outputs": [],
   "source": [
    "from pysb.bng import generate_equations\n",
    "generate_equations(model1_one)"
   ]
  },
  {
   "cell_type": "markdown",
   "metadata": {},
   "source": [
    "Let's now inspect each individual species that was created by the reaction network generation."
   ]
  },
  {
   "cell_type": "code",
   "execution_count": 9,
   "metadata": {
    "collapsed": false
   },
   "outputs": [
    {
     "data": {
      "text/plain": [
       "[RAF(ras=None, map2k=None),\n",
       " RAS(map3k=None),\n",
       " MEK(map3k=None),\n",
       " ERK(phospho='u'),\n",
       " RAF(ras=1, map2k=None) % RAS(map3k=1),\n",
       " MEK(map3k=1) % RAF(ras=None, map2k=1),\n",
       " ERK(phospho='p'),\n",
       " MEK(map3k=1) % RAF(ras=2, map2k=1) % RAS(map3k=2)]"
      ]
     },
     "execution_count": 9,
     "metadata": {},
     "output_type": "execute_result"
    }
   ],
   "source": [
    "model1_one.species"
   ]
  },
  {
   "cell_type": "markdown",
   "metadata": {},
   "source": [
    "We see that MEK appears in 3 distinct forms:\n",
    "- MEK(map3k=None): MEK not bound to anything\n",
    "- MEK(map3k=1) % RAF(ras=None, map2k=1): MEK bound to RAF which is not bound to RAS\n",
    "- MEK(map3k=1) % RAF(ras=2, map2k=1) % RAS(map3k=2): MEK bounds to RAF that is bound to RAS\n",
    "\n",
    "As explained above, the rule `MEK_phosphorylation_ERK_phospho` will apply to all 3 of these forms of MEK."
   ]
  },
  {
   "cell_type": "markdown",
   "metadata": {},
   "source": [
    "### Assembly with two-step policy\n",
    "Let's now assemble the same model with the `two-step` policy. This will result in a model detailed model in which MEK first binds ERK reversibly, and phosphorylated ERK is released from the MEK-ERK complex. We will store this model in the `model1_two` variable."
   ]
  },
  {
   "cell_type": "code",
   "execution_count": 10,
   "metadata": {
    "collapsed": false
   },
   "outputs": [
    {
     "data": {
      "text/plain": [
       "<Model 'None' (monomers: 4, rules: 7, parameters: 11, expressions: 0, compartments: 0) at 0x7f7fe39292d0>"
      ]
     },
     "execution_count": 10,
     "metadata": {},
     "output_type": "execute_result"
    }
   ],
   "source": [
    "pa.make_model(policies='two_step')"
   ]
  },
  {
   "cell_type": "code",
   "execution_count": 11,
   "metadata": {
    "collapsed": true
   },
   "outputs": [],
   "source": [
    "model1_two = pa.model"
   ]
  },
  {
   "cell_type": "code",
   "execution_count": 12,
   "metadata": {
    "collapsed": false
   },
   "outputs": [
    {
     "data": {
      "text/plain": [
       "ComponentSet([\n",
       " Monomer(u'RAF', [u'ras', u'map2k']),\n",
       " Monomer(u'RAS', [u'map3k']),\n",
       " Monomer(u'MEK', [u'map3k', u'mapk']),\n",
       " Monomer(u'ERK', [u'phospho', u'map2k'], {u'phospho': [u'u', u'p']}),\n",
       " ])"
      ]
     },
     "execution_count": 12,
     "metadata": {},
     "output_type": "execute_result"
    }
   ],
   "source": [
    "model1_two.monomers"
   ]
  },
  {
   "cell_type": "code",
   "execution_count": 13,
   "metadata": {
    "collapsed": false
   },
   "outputs": [
    {
     "data": {
      "text/plain": [
       "ComponentSet([\n",
       " Rule(u'RAS_RAF_bind', RAS(map3k=None) + RAF(ras=None) >> RAS(map3k=1) % RAF(ras=1), kf_rr_bind_1),\n",
       " Rule(u'RAS_RAF_dissociate', RAS(map3k=1) % RAF(ras=1) >> RAS(map3k=None) + RAF(ras=None), kr_rr_bind_1),\n",
       " Rule(u'RAF_MEK_bind', RAF(map2k=None) + MEK(map3k=None) >> RAF(map2k=1) % MEK(map3k=1), kf_rm_bind_1),\n",
       " Rule(u'RAF_MEK_dissociate', RAF(map2k=1) % MEK(map3k=1) >> RAF(map2k=None) + MEK(map3k=None), kr_rm_bind_1),\n",
       " Rule(u'MEK_phosphorylation_bind_ERK_phospho', MEK(mapk=None) + ERK(phospho=u'u', map2k=None) >> MEK(mapk=1) % ERK(phospho=u'u', map2k=1), kf_me_bind_1),\n",
       " Rule(u'MEK_phosphorylation_ERK_phospho', MEK(mapk=1) % ERK(phospho=u'u', map2k=1) >> MEK(mapk=None) + ERK(phospho=u'p', map2k=None), kc_me_phosphorylation_1),\n",
       " Rule(u'MEK_dissoc_ERK', MEK(mapk=1) % ERK(map2k=1) >> MEK(mapk=None) + ERK(map2k=None), kr_me_bind_1),\n",
       " ])"
      ]
     },
     "execution_count": 13,
     "metadata": {},
     "output_type": "execute_result"
    }
   ],
   "source": [
    "model1_two.rules"
   ]
  },
  {
   "cell_type": "markdown",
   "metadata": {},
   "source": [
    "We can now generate the reaction network for `model2` and inspect the individual species that are created."
   ]
  },
  {
   "cell_type": "code",
   "execution_count": 14,
   "metadata": {
    "collapsed": true
   },
   "outputs": [],
   "source": [
    "generate_equations(model1_two)"
   ]
  },
  {
   "cell_type": "code",
   "execution_count": 19,
   "metadata": {
    "collapsed": false
   },
   "outputs": [
    {
     "ename": "NameError",
     "evalue": "name 'model1_two' is not defined",
     "output_type": "error",
     "traceback": [
      "\u001b[0;31m---------------------------------------------------------------------------\u001b[0m",
      "\u001b[0;31mNameError\u001b[0m                                 Traceback (most recent call last)",
      "\u001b[0;32m<ipython-input-19-40979eb52968>\u001b[0m in \u001b[0;36m<module>\u001b[0;34m()\u001b[0m\n\u001b[0;32m----> 1\u001b[0;31m \u001b[0mmodel1_two\u001b[0m\u001b[0;34m.\u001b[0m\u001b[0mspecies\u001b[0m\u001b[0;34m\u001b[0m\u001b[0m\n\u001b[0m",
      "\u001b[0;31mNameError\u001b[0m: name 'model1_two' is not defined"
     ]
    }
   ],
   "source": [
    "model1_two.species"
   ]
  },
  {
   "cell_type": "markdown",
   "metadata": {},
   "source": [
    "The two-step policy produced a total of 11 molecular species and ERK now appears in 5 possible forms:\n",
    "- ERK(phospho='u', map2k=None): unphosphorylated ERK not bound to MEK\n",
    "- ERK(phospho='u', map2k=1) % MEK(map3k=None, mapk=1): unphosphorylated ERK bound to MEK\n",
    "- ERK(phospho='u', map2k=1) % MEK(map3k=2, mapk=1) % RAF(ras=None, map2k=2): unphosphorylated ERK bound to MEK which is bound to RAF\n",
    "-  ERK(phospho='u', map2k=1) % MEK(map3k=2, mapk=1) % RAF(ras=3, map2k=2) % RAS(map3k=3): unphosphorylated ERK bound to MEK which is bound to RAF which, in turn, is bound to RAS\n",
    "- ERK(phospho='p', map2k=None): phosphorylated ERK not bound to MEK"
   ]
  }
 ],
 "metadata": {
  "kernelspec": {
   "display_name": "Python 2",
   "language": "python",
   "name": "python2"
  },
  "language_info": {
   "codemirror_mode": {
    "name": "ipython",
    "version": 2
   },
   "file_extension": ".py",
   "mimetype": "text/x-python",
   "name": "python",
   "nbconvert_exporter": "python",
   "pygments_lexer": "ipython2",
   "version": "2.7.9"
  }
 },
 "nbformat": 4,
 "nbformat_minor": 0
}
