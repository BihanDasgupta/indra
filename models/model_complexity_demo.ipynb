{
 "cells": [
  {
   "cell_type": "markdown",
   "metadata": {},
   "source": [
    "# Model complexity, context specification and assembly policies\n",
    "In this demo we explore the effects of specified conditions on Agents (e.g. bound conditions, modification conditions)  and assembly policies on the combinatorial complexity of dynamical models.\n",
    "\n",
    "First, we import INDRA's TRIPS input API and PySB model assembler."
   ]
  },
  {
   "cell_type": "code",
   "execution_count": 1,
   "metadata": {
    "collapsed": true
   },
   "outputs": [],
   "source": [
    "from indra import trips\n",
    "from indra.assemblers import PysbAssembler"
   ]
  },
  {
   "cell_type": "markdown",
   "metadata": {},
   "source": [
    "## Model1: RAS to ERK without specifying agent context\n",
    "In the first case, two binding events and a phosphorylation is described with no additional context specified on any of the proteins."
   ]
  },
  {
   "cell_type": "code",
   "execution_count": 2,
   "metadata": {
    "collapsed": true
   },
   "outputs": [],
   "source": [
    "tp = trips.process_text('RAS binds RAF and RAF binds MEK. MEK phosphorylates ERK.')"
   ]
  },
  {
   "cell_type": "markdown",
   "metadata": {},
   "source": [
    "This yields 3 INDRA Statements, as follows. Here empty parentheses after the Agent names indicate that there is no additional context specified on them."
   ]
  },
  {
   "cell_type": "code",
   "execution_count": 3,
   "metadata": {},
   "outputs": [
    {
     "data": {
      "text/plain": [
       "[Complex(RAS(), RAF()), Complex(RAF(), MEK()), Phosphorylation(MEK(), ERK())]"
      ]
     },
     "execution_count": 3,
     "metadata": {},
     "output_type": "execute_result"
    }
   ],
   "source": [
    "tp.statements"
   ]
  },
  {
   "cell_type": "markdown",
   "metadata": {},
   "source": [
    "### Assembly with one-step policy\n",
    "We now assemble this model using the default `one_step` policy and store it in the `model1_one` variable."
   ]
  },
  {
   "cell_type": "code",
   "execution_count": 4,
   "metadata": {},
   "outputs": [
    {
     "data": {
      "text/plain": [
       "<Model 'None' (monomers: 4, rules: 5, parameters: 9, expressions: 0, compartments: 0) at 0x7efda7751320>"
      ]
     },
     "execution_count": 4,
     "metadata": {},
     "output_type": "execute_result"
    }
   ],
   "source": [
    "pa = PysbAssembler()\n",
    "pa.add_statements(tp.statements)\n",
    "pa.make_model(policies='one_step')"
   ]
  },
  {
   "cell_type": "code",
   "execution_count": 5,
   "metadata": {
    "collapsed": true
   },
   "outputs": [],
   "source": [
    "model1_one = pa.model"
   ]
  },
  {
   "cell_type": "markdown",
   "metadata": {},
   "source": [
    "The model has 4 Monomers and 5 Rules."
   ]
  },
  {
   "cell_type": "code",
   "execution_count": 6,
   "metadata": {},
   "outputs": [
    {
     "data": {
      "text/plain": [
       "ComponentSet([\n",
       " Monomer('ERK', ['phospho'], {'phospho': ['u', 'p']}),\n",
       " Monomer('RAF', ['ras', 'map2k']),\n",
       " Monomer('RAS', ['map3k']),\n",
       " Monomer('MEK', ['map3k']),\n",
       " ])"
      ]
     },
     "execution_count": 6,
     "metadata": {},
     "output_type": "execute_result"
    }
   ],
   "source": [
    "model1_one.monomers"
   ]
  },
  {
   "cell_type": "code",
   "execution_count": 7,
   "metadata": {},
   "outputs": [
    {
     "data": {
      "text/plain": [
       "ComponentSet([\n",
       " Rule('RAS_RAF_bind', RAS(map3k=None) + RAF(ras=None) >> RAS(map3k=1) % RAF(ras=1), kf_rr_bind_1),\n",
       " Rule('RAS_RAF_dissociate', RAS(map3k=1) % RAF(ras=1) >> RAS(map3k=None) + RAF(ras=None), kr_rr_bind_1),\n",
       " Rule('RAF_MEK_bind', RAF(map2k=None) + MEK(map3k=None) >> RAF(map2k=1) % MEK(map3k=1), kf_rm_bind_1),\n",
       " Rule('RAF_MEK_dissociate', RAF(map2k=1) % MEK(map3k=1) >> RAF(map2k=None) + MEK(map3k=None), kr_rm_bind_1),\n",
       " Rule('MEK_phosphorylation_ERK_phospho', MEK() + ERK(phospho='u') >> MEK() + ERK(phospho='p'), kf_me_phosphorylation_1),\n",
       " ])"
      ]
     },
     "execution_count": 7,
     "metadata": {},
     "output_type": "execute_result"
    }
   ],
   "source": [
    "model1_one.rules"
   ]
  },
  {
   "cell_type": "markdown",
   "metadata": {},
   "source": [
    "Let's examine the last rule which corresponds to MEK phosphorylating ERK. Here, `MEK()` appears without additional context specified. This means that the rule will apply to **any** form of `MEK`, for instance, MEK that is bound to RAF. \n",
    "\n",
    "We now generate the rule-based model into a reaction network form using PySB's interface to BioNetGen."
   ]
  },
  {
   "cell_type": "code",
   "execution_count": 8,
   "metadata": {
    "collapsed": true
   },
   "outputs": [],
   "source": [
    "from pysb.bng import generate_equations\n",
    "generate_equations(model1_one)"
   ]
  },
  {
   "cell_type": "markdown",
   "metadata": {},
   "source": [
    "Let's now inspect each individual species that was created by the reaction network generation."
   ]
  },
  {
   "cell_type": "code",
   "execution_count": 9,
   "metadata": {},
   "outputs": [
    {
     "data": {
      "text/plain": [
       "[ERK(phospho='u'),\n",
       " RAF(ras=None, map2k=None),\n",
       " RAS(map3k=None),\n",
       " MEK(map3k=None),\n",
       " RAF(ras=1, map2k=None) % RAS(map3k=1),\n",
       " MEK(map3k=1) % RAF(ras=None, map2k=1),\n",
       " ERK(phospho='p'),\n",
       " MEK(map3k=1) % RAF(ras=2, map2k=1) % RAS(map3k=2)]"
      ]
     },
     "execution_count": 9,
     "metadata": {},
     "output_type": "execute_result"
    }
   ],
   "source": [
    "model1_one.species"
   ]
  },
  {
   "cell_type": "markdown",
   "metadata": {},
   "source": [
    "We see that MEK appears in 3 distinct forms:\n",
    "- MEK(map3k=None): MEK not bound to anything\n",
    "- MEK(map3k=1) % RAF(ras=None, map2k=1): MEK bound to RAF which is not bound to RAS\n",
    "- MEK(map3k=1) % RAF(ras=2, map2k=1) % RAS(map3k=2): MEK bounds to RAF that is bound to RAS\n",
    "\n",
    "As explained above, the rule `MEK_phosphorylation_ERK_phospho` will apply to all 3 of these forms of MEK."
   ]
  },
  {
   "cell_type": "markdown",
   "metadata": {},
   "source": [
    "### Assembly with two-step policy\n",
    "Let's now assemble the same model with the `two-step` policy. This will result in a model detailed model in which MEK first binds ERK reversibly, and phosphorylated ERK is released from the MEK-ERK complex. We will store this model in the `model1_two` variable."
   ]
  },
  {
   "cell_type": "code",
   "execution_count": 10,
   "metadata": {},
   "outputs": [
    {
     "data": {
      "text/plain": [
       "<Model 'None' (monomers: 4, rules: 7, parameters: 11, expressions: 0, compartments: 0) at 0x7efda7751358>"
      ]
     },
     "execution_count": 10,
     "metadata": {},
     "output_type": "execute_result"
    }
   ],
   "source": [
    "pa.make_model(policies='two_step')"
   ]
  },
  {
   "cell_type": "code",
   "execution_count": 11,
   "metadata": {
    "collapsed": true
   },
   "outputs": [],
   "source": [
    "model1_two = pa.model"
   ]
  },
  {
   "cell_type": "code",
   "execution_count": 12,
   "metadata": {},
   "outputs": [
    {
     "data": {
      "text/plain": [
       "ComponentSet([\n",
       " Monomer('ERK', ['phospho', 'map2k'], {'phospho': ['u', 'p']}),\n",
       " Monomer('RAF', ['ras', 'map2k']),\n",
       " Monomer('RAS', ['map3k']),\n",
       " Monomer('MEK', ['map3k', 'mapk']),\n",
       " ])"
      ]
     },
     "execution_count": 12,
     "metadata": {},
     "output_type": "execute_result"
    }
   ],
   "source": [
    "model1_two.monomers"
   ]
  },
  {
   "cell_type": "code",
   "execution_count": 13,
   "metadata": {},
   "outputs": [
    {
     "data": {
      "text/plain": [
       "ComponentSet([\n",
       " Rule('RAS_RAF_bind', RAS(map3k=None) + RAF(ras=None) >> RAS(map3k=1) % RAF(ras=1), kf_rr_bind_1),\n",
       " Rule('RAS_RAF_dissociate', RAS(map3k=1) % RAF(ras=1) >> RAS(map3k=None) + RAF(ras=None), kr_rr_bind_1),\n",
       " Rule('RAF_MEK_bind', RAF(map2k=None) + MEK(map3k=None) >> RAF(map2k=1) % MEK(map3k=1), kf_rm_bind_1),\n",
       " Rule('RAF_MEK_dissociate', RAF(map2k=1) % MEK(map3k=1) >> RAF(map2k=None) + MEK(map3k=None), kr_rm_bind_1),\n",
       " Rule('MEK_phosphorylation_bind_ERK_phospho', MEK(mapk=None) + ERK(phospho='u', map2k=None) >> MEK(mapk=1) % ERK(phospho='u', map2k=1), kf_me_bind_1),\n",
       " Rule('MEK_phosphorylation_ERK_phospho', MEK(mapk=1) % ERK(phospho='u', map2k=1) >> MEK(mapk=None) + ERK(phospho='p', map2k=None), kc_me_phosphorylation_1),\n",
       " Rule('MEK_dissoc_ERK', MEK(mapk=1) % ERK(map2k=1) >> MEK(mapk=None) + ERK(map2k=None), kr_me_bind_1),\n",
       " ])"
      ]
     },
     "execution_count": 13,
     "metadata": {},
     "output_type": "execute_result"
    }
   ],
   "source": [
    "model1_two.rules"
   ]
  },
  {
   "cell_type": "markdown",
   "metadata": {},
   "source": [
    "We can now generate the reaction network for `model2` and inspect the individual species that are created."
   ]
  },
  {
   "cell_type": "code",
   "execution_count": 14,
   "metadata": {
    "collapsed": true
   },
   "outputs": [],
   "source": [
    "generate_equations(model1_two)"
   ]
  },
  {
   "cell_type": "code",
   "execution_count": 15,
   "metadata": {},
   "outputs": [
    {
     "data": {
      "text/plain": [
       "[ERK(phospho='u', map2k=None),\n",
       " RAF(ras=None, map2k=None),\n",
       " RAS(map3k=None),\n",
       " MEK(map3k=None, mapk=None),\n",
       " RAF(ras=1, map2k=None) % RAS(map3k=1),\n",
       " MEK(map3k=1, mapk=None) % RAF(ras=None, map2k=1),\n",
       " ERK(phospho='u', map2k=1) % MEK(map3k=None, mapk=1),\n",
       " MEK(map3k=1, mapk=None) % RAF(ras=2, map2k=1) % RAS(map3k=2),\n",
       " ERK(phospho='u', map2k=1) % MEK(map3k=2, mapk=1) % RAF(ras=None, map2k=2),\n",
       " ERK(phospho='u', map2k=1) % MEK(map3k=2, mapk=1) % RAF(ras=3, map2k=2) % RAS(map3k=3),\n",
       " ERK(phospho='p', map2k=None)]"
      ]
     },
     "execution_count": 15,
     "metadata": {},
     "output_type": "execute_result"
    }
   ],
   "source": [
    "model1_two.species"
   ]
  },
  {
   "cell_type": "markdown",
   "metadata": {},
   "source": [
    "The two-step policy produced a total of 11 molecular species and ERK now appears in 5 possible forms:\n",
    "- ERK(phospho='u', map2k=None): unphosphorylated ERK not bound to MEK\n",
    "- ERK(phospho='u', map2k=1) % MEK(map3k=None, mapk=1): unphosphorylated ERK bound to MEK\n",
    "- ERK(phospho='u', map2k=1) % MEK(map3k=2, mapk=1) % RAF(ras=None, map2k=2): unphosphorylated ERK bound to MEK which is bound to RAF\n",
    "-  ERK(phospho='u', map2k=1) % MEK(map3k=2, mapk=1) % RAF(ras=3, map2k=2) % RAS(map3k=3): unphosphorylated ERK bound to MEK which is bound to RAF which, in turn, is bound to RAS\n",
    "- ERK(phospho='p', map2k=None): phosphorylated ERK not bound to MEK"
   ]
  },
  {
   "cell_type": "markdown",
   "metadata": {},
   "source": [
    "## Model2: RAS to ERK with RAF dimerization\n",
    "In the next model we introduce RAF dimerization and examine its effects on the resulting model. The following text, when processed, results in 4 INDRA Statements. We then assemble these into a PySB model with the `two-step` policy. "
   ]
  },
  {
   "cell_type": "code",
   "execution_count": 18,
   "metadata": {},
   "outputs": [
    {
     "data": {
      "text/plain": [
       "[Complex(RAS(), RAF()),\n",
       " Complex(RAF(), RAF()),\n",
       " Complex(RAF(), MEK()),\n",
       " Phosphorylation(MEK(), ERK())]"
      ]
     },
     "execution_count": 18,
     "metadata": {},
     "output_type": "execute_result"
    }
   ],
   "source": [
    "tp = trips.process_text('RAS binds RAF, RAF binds RAF and RAF binds MEK. MEK phosphorylates ERK.')\n",
    "tp.statements"
   ]
  },
  {
   "cell_type": "code",
   "execution_count": 23,
   "metadata": {},
   "outputs": [
    {
     "data": {
      "text/plain": [
       "<Model 'None' (monomers: 4, rules: 9, parameters: 13, expressions: 0, compartments: 0) at 0x7efde4b32d30>"
      ]
     },
     "execution_count": 23,
     "metadata": {},
     "output_type": "execute_result"
    }
   ],
   "source": [
    "pa = PysbAssembler()\n",
    "pa.add_statements(tp.statements)\n",
    "pa.make_model(policies='two_step')"
   ]
  },
  {
   "cell_type": "markdown",
   "metadata": {},
   "source": [
    "When generating the reaction network, we find that the model consists of 32 distinct species."
   ]
  },
  {
   "cell_type": "code",
   "execution_count": 24,
   "metadata": {
    "collapsed": true
   },
   "outputs": [],
   "source": [
    "model2_two = pa.model\n",
    "generate_equations(model2_two)"
   ]
  },
  {
   "cell_type": "code",
   "execution_count": 25,
   "metadata": {},
   "outputs": [
    {
     "data": {
      "text/plain": [
       "[ERK(phospho='u', map2k=None),\n",
       " RAF(ras=None, map3k=None, map2k=None),\n",
       " RAS(map3k=None),\n",
       " MEK(map3k=None, mapk=None),\n",
       " RAF(ras=1, map3k=None, map2k=None) % RAS(map3k=1),\n",
       " RAF(ras=None, map3k=1, map2k=None) % RAF(ras=None, map3k=1, map2k=None),\n",
       " MEK(map3k=1, mapk=None) % RAF(ras=None, map3k=None, map2k=1),\n",
       " ERK(phospho='u', map2k=1) % MEK(map3k=None, mapk=1),\n",
       " RAF(ras=2, map3k=1, map2k=None) % RAF(ras=None, map3k=1, map2k=None) % RAS(map3k=2),\n",
       " MEK(map3k=1, mapk=None) % RAF(ras=2, map3k=None, map2k=1) % RAS(map3k=2),\n",
       " MEK(map3k=1, mapk=None) % RAF(ras=None, map3k=2, map2k=1) % RAF(ras=None, map3k=2, map2k=None),\n",
       " RAF(ras=2, map3k=1, map2k=None) % RAF(ras=3, map3k=1, map2k=None) % RAS(map3k=2) % RAS(map3k=3),\n",
       " MEK(map3k=1, mapk=None) % RAF(ras=None, map3k=2, map2k=1) % RAF(ras=3, map3k=2, map2k=None) % RAS(map3k=3),\n",
       " MEK(map3k=1, mapk=None) % MEK(map3k=2, mapk=None) % RAF(ras=None, map3k=3, map2k=1) % RAF(ras=None, map3k=3, map2k=2),\n",
       " ERK(phospho='u', map2k=1) % MEK(map3k=2, mapk=1) % RAF(ras=None, map3k=None, map2k=2),\n",
       " ERK(phospho='u', map2k=1) % MEK(map3k=2, mapk=1) % RAF(ras=3, map3k=None, map2k=2) % RAS(map3k=3),\n",
       " ERK(phospho='u', map2k=1) % MEK(map3k=2, mapk=1) % RAF(ras=None, map3k=3, map2k=2) % RAF(ras=None, map3k=3, map2k=None),\n",
       " ERK(phospho='p', map2k=None),\n",
       " MEK(map3k=1, mapk=None) % RAF(ras=3, map3k=2, map2k=1) % RAF(ras=None, map3k=2, map2k=None) % RAS(map3k=3),\n",
       " MEK(map3k=1, mapk=None) % RAF(ras=3, map3k=2, map2k=1) % RAF(ras=4, map3k=2, map2k=None) % RAS(map3k=3) % RAS(map3k=4),\n",
       " MEK(map3k=1, mapk=None) % MEK(map3k=2, mapk=None) % RAF(ras=4, map3k=3, map2k=1) % RAF(ras=None, map3k=3, map2k=2) % RAS(map3k=4),\n",
       " ERK(phospho='u', map2k=1) % MEK(map3k=2, mapk=1) % RAF(ras=4, map3k=3, map2k=2) % RAF(ras=None, map3k=3, map2k=None) % RAS(map3k=4),\n",
       " ERK(phospho='u', map2k=1) % MEK(map3k=2, mapk=1) % RAF(ras=None, map3k=3, map2k=2) % RAF(ras=4, map3k=3, map2k=None) % RAS(map3k=4),\n",
       " ERK(phospho='u', map2k=1) % MEK(map3k=2, mapk=1) % RAF(ras=4, map3k=3, map2k=2) % RAF(ras=5, map3k=3, map2k=None) % RAS(map3k=5) % RAS(map3k=4),\n",
       " ERK(phospho='u', map2k=1) % MEK(map3k=2, mapk=1) % MEK(map3k=3, mapk=None) % RAF(ras=None, map3k=4, map2k=3) % RAF(ras=None, map3k=4, map2k=2),\n",
       " ERK(phospho='u', map2k=1) % MEK(map3k=2, mapk=1) % MEK(map3k=3, mapk=None) % RAF(ras=5, map3k=4, map2k=2) % RAF(ras=None, map3k=4, map2k=3) % RAS(map3k=5),\n",
       " MEK(map3k=1, mapk=None) % MEK(map3k=2, mapk=None) % RAF(ras=4, map3k=3, map2k=1) % RAF(ras=5, map3k=3, map2k=2) % RAS(map3k=4) % RAS(map3k=5),\n",
       " ERK(phospho='u', map2k=1) % MEK(map3k=2, mapk=1) % MEK(map3k=3, mapk=None) % RAF(ras=5, map3k=4, map2k=3) % RAF(ras=None, map3k=4, map2k=2) % RAS(map3k=5),\n",
       " ERK(phospho='u', map2k=1) % MEK(map3k=2, mapk=1) % MEK(map3k=3, mapk=None) % RAF(ras=5, map3k=4, map2k=3) % RAF(ras=6, map3k=4, map2k=2) % RAS(map3k=5) % RAS(map3k=6),\n",
       " ERK(phospho='u', map2k=1) % ERK(phospho='u', map2k=2) % MEK(map3k=3, mapk=1) % MEK(map3k=4, mapk=2) % RAF(ras=None, map3k=5, map2k=3) % RAF(ras=None, map3k=5, map2k=4),\n",
       " ERK(phospho='u', map2k=1) % ERK(phospho='u', map2k=2) % MEK(map3k=3, mapk=1) % MEK(map3k=4, mapk=2) % RAF(ras=6, map3k=5, map2k=4) % RAF(ras=None, map3k=5, map2k=3) % RAS(map3k=6),\n",
       " ERK(phospho='u', map2k=1) % ERK(phospho='u', map2k=2) % MEK(map3k=3, mapk=1) % MEK(map3k=4, mapk=2) % RAF(ras=6, map3k=5, map2k=3) % RAF(ras=7, map3k=5, map2k=4) % RAS(map3k=6) % RAS(map3k=7)]"
      ]
     },
     "execution_count": 25,
     "metadata": {},
     "output_type": "execute_result"
    }
   ],
   "source": [
    "model2_two.species"
   ]
  },
  {
   "cell_type": "markdown",
   "metadata": {},
   "source": [
    "This means that the sentences, as written above, imply the possibility of the complex `ERK(phospho='u', map2k=1) % ERK(phospho='u', map2k=2) % MEK(map3k=3, mapk=1) % MEK(map3k=4, mapk=2) % RAF(ras=6, map3k=5, map2k=3) % RAF(ras=7, map3k=5, map2k=4) % RAS(map3k=6) % RAS(map3k=7)` existing - a large assembly of RAS, MEK and ERK proteins around a RAF dimer. \n",
    "\n",
    "### Adding additional context\n",
    "While the existence of a complex like the one above is not unrealistic, to reduce model complecity, we can introduce additional assumptions on the context of molecular agents. In the natural language modeling approach these assumptions are made explicit in the model definition itself and are therefore immediately interpretable."
   ]
  },
  {
   "cell_type": "code",
   "execution_count": 48,
   "metadata": {
    "collapsed": true
   },
   "outputs": [],
   "source": [
    "tp = trips.process_text('RAS binds RAF not bound to RAF. ' +\n",
    "                        'RAF bound to RAS binds RAF not bound to RAS. ' +\n",
    "                        'RAF bound to RAF not bound to RAS binds MEK. ' +\n",
    "                        'MEK that is bound to RAF phosphorylates ERK.')"
   ]
  },
  {
   "cell_type": "code",
   "execution_count": 49,
   "metadata": {},
   "outputs": [
    {
     "data": {
      "text/plain": [
       "[Complex(RAS(), RAF(bound: [RAF, False])),\n",
       " Complex(RAF(bound: [RAS, True]), RAF(bound: [RAS, False])),\n",
       " Complex(RAF(bound: [RAF, True]), MEK()),\n",
       " Phosphorylation(MEK(bound: [RAF, True]), ERK())]"
      ]
     },
     "execution_count": 49,
     "metadata": {},
     "output_type": "execute_result"
    }
   ],
   "source": [
    "tp.statements"
   ]
  },
  {
   "cell_type": "markdown",
   "metadata": {},
   "source": [
    "We see that in concordance with the model text, the obtained INDRA Statements now have additional agent context specified in the form of bound conditions. For instance, `RAF(bound: [RAS, True])` indicates that RAF needs to be bound to RAS for it to bind MEK."
   ]
  },
  {
   "cell_type": "code",
   "execution_count": 50,
   "metadata": {},
   "outputs": [
    {
     "data": {
      "text/plain": [
       "<Model 'None' (monomers: 4, rules: 9, parameters: 13, expressions: 0, compartments: 0) at 0x7efde47d8630>"
      ]
     },
     "execution_count": 50,
     "metadata": {},
     "output_type": "execute_result"
    }
   ],
   "source": [
    "pa = PysbAssembler()\n",
    "pa.add_statements(tp.statements)\n",
    "pa.make_model(policies='two_step')"
   ]
  },
  {
   "cell_type": "code",
   "execution_count": 53,
   "metadata": {},
   "outputs": [],
   "source": [
    "model2_two_simple = pa.model\n",
    "generate_equations(model2_two_simple)"
   ]
  },
  {
   "cell_type": "code",
   "execution_count": 56,
   "metadata": {},
   "outputs": [
    {
     "data": {
      "text/plain": [
       "[ERK(phospho='u', map2k=None),\n",
       " RAF(map3k=None, ras=None, map2k=None),\n",
       " RAS(map3k=None),\n",
       " MEK(map3k=None, mapk=None),\n",
       " RAF(map3k=None, ras=1, map2k=None) % RAS(map3k=1),\n",
       " RAF(map3k=1, ras=2, map2k=None) % RAF(map3k=1, ras=None, map2k=None) % RAS(map3k=2),\n",
       " RAF(map3k=1, ras=None, map2k=None) % RAF(map3k=1, ras=None, map2k=None),\n",
       " MEK(map3k=1, mapk=None) % RAF(map3k=2, ras=3, map2k=1) % RAF(map3k=2, ras=None, map2k=None) % RAS(map3k=3),\n",
       " MEK(map3k=1, mapk=None) % RAF(map3k=2, ras=None, map2k=1) % RAF(map3k=2, ras=3, map2k=None) % RAS(map3k=3),\n",
       " MEK(map3k=1, mapk=None) % RAF(map3k=2, ras=None, map2k=1) % RAF(map3k=2, ras=None, map2k=None),\n",
       " MEK(map3k=1, mapk=None) % RAF(map3k=None, ras=2, map2k=1) % RAS(map3k=2),\n",
       " MEK(map3k=1, mapk=None) % RAF(map3k=None, ras=None, map2k=1),\n",
       " MEK(map3k=1, mapk=None) % MEK(map3k=2, mapk=None) % RAF(map3k=3, ras=4, map2k=1) % RAF(map3k=3, ras=None, map2k=2) % RAS(map3k=4),\n",
       " ERK(phospho='u', map2k=1) % MEK(map3k=2, mapk=1) % RAF(map3k=3, ras=4, map2k=2) % RAF(map3k=3, ras=None, map2k=None) % RAS(map3k=4),\n",
       " ERK(phospho='u', map2k=1) % MEK(map3k=2, mapk=1) % RAF(map3k=3, ras=None, map2k=2) % RAF(map3k=3, ras=4, map2k=None) % RAS(map3k=4),\n",
       " MEK(map3k=1, mapk=None) % MEK(map3k=2, mapk=None) % RAF(map3k=3, ras=None, map2k=1) % RAF(map3k=3, ras=None, map2k=2),\n",
       " ERK(phospho='u', map2k=1) % MEK(map3k=2, mapk=1) % RAF(map3k=3, ras=None, map2k=2) % RAF(map3k=3, ras=None, map2k=None),\n",
       " ERK(phospho='u', map2k=1) % MEK(map3k=2, mapk=1) % RAF(map3k=None, ras=3, map2k=2) % RAS(map3k=3),\n",
       " ERK(phospho='u', map2k=1) % MEK(map3k=2, mapk=1) % RAF(map3k=None, ras=None, map2k=2),\n",
       " ERK(phospho='u', map2k=1) % MEK(map3k=2, mapk=1) % MEK(map3k=3, mapk=None) % RAF(map3k=4, ras=5, map2k=2) % RAF(map3k=4, ras=None, map2k=3) % RAS(map3k=5),\n",
       " ERK(phospho='u', map2k=1) % MEK(map3k=2, mapk=1) % MEK(map3k=3, mapk=None) % RAF(map3k=4, ras=5, map2k=3) % RAF(map3k=4, ras=None, map2k=2) % RAS(map3k=5),\n",
       " ERK(phospho='u', map2k=1) % MEK(map3k=None, mapk=1),\n",
       " ERK(phospho='p', map2k=None),\n",
       " ERK(phospho='u', map2k=1) % MEK(map3k=2, mapk=1) % MEK(map3k=3, mapk=None) % RAF(map3k=4, ras=None, map2k=2) % RAF(map3k=4, ras=None, map2k=3),\n",
       " ERK(phospho='u', map2k=1) % ERK(phospho='u', map2k=2) % MEK(map3k=3, mapk=1) % MEK(map3k=4, mapk=2) % RAF(map3k=5, ras=6, map2k=3) % RAF(map3k=5, ras=None, map2k=4) % RAS(map3k=6),\n",
       " ERK(phospho='u', map2k=1) % ERK(phospho='u', map2k=2) % MEK(map3k=3, mapk=1) % MEK(map3k=4, mapk=2) % RAF(map3k=5, ras=None, map2k=3) % RAF(map3k=5, ras=None, map2k=4)]"
      ]
     },
     "execution_count": 56,
     "metadata": {},
     "output_type": "execute_result"
    }
   ],
   "source": [
    "model2_two_simple.species"
   ]
  },
  {
   "cell_type": "code",
   "execution_count": 55,
   "metadata": {},
   "outputs": [
    {
     "data": {
      "text/plain": [
       "26"
      ]
     },
     "execution_count": 55,
     "metadata": {},
     "output_type": "execute_result"
    }
   ],
   "source": [
    "len(model2_two_simple.species)"
   ]
  },
  {
   "cell_type": "code",
   "execution_count": null,
   "metadata": {
    "collapsed": true
   },
   "outputs": [],
   "source": []
  }
 ],
 "metadata": {
  "kernelspec": {
   "display_name": "Python 3",
   "language": "python",
   "name": "python3"
  },
  "language_info": {
   "codemirror_mode": {
    "name": "ipython",
    "version": 3
   },
   "file_extension": ".py",
   "mimetype": "text/x-python",
   "name": "python",
   "nbconvert_exporter": "python",
   "pygments_lexer": "ipython3",
   "version": "3.4.2"
  }
 },
 "nbformat": 4,
 "nbformat_minor": 1
}
