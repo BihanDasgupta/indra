{
 "cells": [
  {
   "cell_type": "code",
   "execution_count": 2,
   "metadata": {
    "collapsed": false
   },
   "outputs": [
    {
     "name": "stderr",
     "output_type": "stream",
     "text": [
      "WARNING: indra/crossref - CrossRef Clickthrough API key could not be found at:\n",
      "WARNING: indra/crossref - /Users/petar/Code/indra/indra/literature/cr_clickthrough_key\n",
      "WARNING: indra/elsevier - Elsevier API keys file could not be read, trying environment variables $ELSEVIER_API_KEY and $ELSEVIER_INST_KEY.\n",
      "INFO: indra/elsevier - No Elsevier institution key found in environment variable ELSEVIER_INST_KEY.\n",
      "WARNING: indra/elsevier - No Elsevier API key found in environment variable ELSEVIER_API_KEY.\n"
     ]
    }
   ],
   "source": [
    "from __future__ import absolute_import, print_function, unicode_literals\n",
    "from builtins import dict, str\n",
    "import os\n",
    "import time\n",
    "import numpy as np\n",
    "import matplotlib.pyplot as plt\n",
    "from indra import trips\n",
    "from indra.assemblers import PysbAssembler\n",
    "from indra.util.plot_formatting import *\n",
    "from pysb import Observable, Parameter\n",
    "from pysb.integrate import Solver\n",
    "from pysb.export import export"
   ]
  },
  {
   "cell_type": "code",
   "execution_count": 3,
   "metadata": {
    "collapsed": true
   },
   "outputs": [],
   "source": [
    "def add_observable(model):\n",
    "    # Add active p53 observable\n",
    "    p53 = model.monomers['TP53']\n",
    "    obs = Observable('p53_active', p53(activity='active'))\n",
    "    model.add_component(obs)"
   ]
  },
  {
   "cell_type": "code",
   "execution_count": 5,
   "metadata": {
    "collapsed": true
   },
   "outputs": [],
   "source": [
    "def set_parameters(model):\n",
    "    if model.name.startswith('ATM'):\n",
    "        atm_atr = 'ATM'\n",
    "    else:\n",
    "        atm_atr = 'ATR'\n",
    "\n",
    "    # Set activation parameters to 1e-7\n",
    "    for param in model.parameters:\n",
    "        if param.name.startswith('kf') and param.name.find('act') != -1:\n",
    "            param.value = 1e-7\n",
    "\n",
    "    # Update Wip1 -| p53 parameter\n",
    "    model.parameters['kf_pt_act_1'].value = 5e-7\n",
    "\n",
    "    # Update the Wip1 -| ATM parameter in ATM models\n",
    "    if atm_atr == 'ATM':\n",
    "        if not (model.name.endswith('v4a') or model.name.endswith('v4b')):\n",
    "            model.parameters['kf_pa_act_1'].value = 1e-5\n",
    "        else:\n",
    "            model.parameters['kf_pa_dephosphorylation_1'].value = 1e-5\n",
    "\n",
    "    # Update ATR/ATM autoactivation parameter in v3/v4 models\n",
    "    if model.name.endswith('v3'):\n",
    "        model.parameters['kf_aa_act_1'].value = 5e-7\n",
    "    elif model.name.endswith('v4a'):\n",
    "        model.parameters['kf_a_autophos_1'].value = 5e-7\n",
    "    elif model.name.endswith('v4b'):\n",
    "        model.parameters['kf_aa_phosphorylation_1'].value = 5e-7\n",
    "\n",
    "    # Set some of the transcription/degradation parameters in v4 models:\n",
    "    if model.name.startswith('ATM_v4'):\n",
    "        model.parameters['MDM2_0'].value = 0\n",
    "        model.parameters['kf_m_deg_1'].value = 8e-2\n",
    "        model.parameters['kf_tm_synth_1'].value = 2e-2\n",
    "\n",
    "    # Start with some initial active/phosphorylated ATR/ATM\n",
    "    model.add_component(Parameter('%sa_0' % atm_atr, 1))\n",
    "    atm_atr_m = model.monomers[atm_atr]\n",
    "    if not model.name.startswith('ATM_v4'):\n",
    "        model.initial(atm_atr_m(activity='active'),\n",
    "                      model.parameters['%sa_0' % atm_atr])\n",
    "    else:\n",
    "        model.initial(atm_atr_m(phospho='p'),\n",
    "                      model.parameters['%sa_0' % atm_atr])"
   ]
  },
  {
   "cell_type": "code",
   "execution_count": 6,
   "metadata": {
    "collapsed": true
   },
   "outputs": [],
   "source": [
    "def assemble_model(model_name, reread=False):\n",
    "    xml_fname = model_name + '.xml'\n",
    "    if not reread:\n",
    "        print('Processing %s' % xml_fname)\n",
    "        if os.path.exists(xml_fname):\n",
    "            with open(xml_fname, 'rb') as fh:\n",
    "                tp = trips.process_xml(fh.read())\n",
    "        else:\n",
    "            reread = True\n",
    "    if reread:\n",
    "        fname = model_name + '.txt'\n",
    "        print('Reading %s' % fname)\n",
    "        with open(fname, 'rb') as fh:\n",
    "            ts = time.time()\n",
    "            tp = trips.process_text(fh.read(), xml_fname)\n",
    "            te = time.time()\n",
    "            print('Reading took %.2fs' % (te-ts))\n",
    "    print('Assembling statements:')\n",
    "    for i, st in enumerate(tp.statements):\n",
    "        print('%d: %s' % (i, st))\n",
    "    print('----------------------')\n",
    "\n",
    "    pa = PysbAssembler()\n",
    "    pa.add_statements(tp.statements)\n",
    "    ts = time.time()\n",
    "    model = pa.make_model()\n",
    "    te = time.time()\n",
    "    print('Assembly took %.2fs' % (te-ts))\n",
    "    model.name = model_name\n",
    "\n",
    "    add_observable(model)\n",
    "    set_parameters(model)\n",
    "\n",
    "    # Save and return model\n",
    "    pa.model = model\n",
    "    pa.save_model('%s.py' % model_name)\n",
    "    return model"
   ]
  },
  {
   "cell_type": "code",
   "execution_count": 7,
   "metadata": {
    "collapsed": true
   },
   "outputs": [],
   "source": [
    "def run_model(model):\n",
    "    sim_hours = 20\n",
    "    ts = np.linspace(0, sim_hours*3600, sim_hours*60)\n",
    "    tst = time.time()\n",
    "    solver = Solver(model, ts)\n",
    "    solver.run()\n",
    "    te = time.time()\n",
    "    print('Simulation took %.2fs' % (te-tst))\n",
    "    plt.figure(figsize=(1.8, 1), dpi=300)\n",
    "    set_fig_params()\n",
    "    plt.plot(ts, solver.yobs['p53_active'], 'r')\n",
    "    plt.xticks([])\n",
    "    plt.xlabel('Time (a.u.)', fontsize=7)\n",
    "    plt.ylabel('Active p53', fontsize=7)\n",
    "    plt.yticks([])\n",
    "    ax = plt.gca()\n",
    "    format_axis(ax)\n",
    "    #plt.subplots_adjust()\n",
    "    plt.savefig(model.name + '.pdf')\n",
    "    return ts, solver"
   ]
  },
  {
   "cell_type": "code",
   "execution_count": 8,
   "metadata": {
    "collapsed": true
   },
   "outputs": [],
   "source": [
    "def export_pomi(model, formats):\n",
    "    for f in formats:\n",
    "        model_export = export(model, f)\n",
    "        extension = (f if f != 'pysb_flat' else 'py')\n",
    "        fname = 'POMI1.0.%s' % extension\n",
    "        with open(fname, 'wb') as fh:\n",
    "            fh.write(model_export)"
   ]
  },
  {
   "cell_type": "code",
   "execution_count": 10,
   "metadata": {
    "collapsed": true
   },
   "outputs": [],
   "source": [
    "%matplotlib inline"
   ]
  },
  {
   "cell_type": "code",
   "execution_count": 11,
   "metadata": {
    "collapsed": false
   },
   "outputs": [
    {
     "name": "stdout",
     "output_type": "stream",
     "text": [
      "Processing ATR_v1.xml\n",
      "Reading ATR_v1.txt\n",
      "Reading took 7.87s\n",
      "Assembling statements:\n",
      "0: Activation(ATR(activity: True), TP53())\n",
      "1: Activation(TP53(activity: True), PPM1D())\n",
      "2: Activation(TP53(activity: True), MDM2())\n",
      "3: Inhibition(PPM1D(activity: True), TP53())\n",
      "4: Inhibition(MDM2(activity: True), TP53())\n",
      "----------------------\n",
      "Assembly took 0.01s\n",
      "Simulation took 0.30s\n",
      "Processing ATR_v2.xml\n",
      "Reading ATR_v2.txt\n",
      "Reading took 11.20s\n",
      "Assembling statements:\n",
      "0: Activation(ATR(activity: True), TP53())\n",
      "1: Activation(TP53(activity: True), PPM1D())\n",
      "2: Activation(TP53(activity: True), MDM2())\n",
      "3: Inhibition(PPM1D(activity: True), TP53())\n",
      "4: Inhibition(MDM2(activity: True), TP53())\n",
      "5: Inhibition(HIPK2(), PPM1D())\n",
      "6: Inhibition(CDKN2A(), MDM2())\n",
      "----------------------\n",
      "Assembly took 0.01s\n",
      "Simulation took 0.36s\n",
      "Processing ATR_v3.xml\n",
      "Reading ATR_v3.txt\n",
      "Reading took 14.22s\n",
      "Assembling statements:\n",
      "0: Activation(ATR(activity: True), TP53())\n",
      "1: Activation(TP53(activity: True), PPM1D())\n",
      "2: Activation(TP53(activity: True), MDM2())\n",
      "3: Activation(ATR(activity: True), ATR())\n",
      "4: Inhibition(PPM1D(activity: True), TP53())\n",
      "5: Inhibition(MDM2(activity: True), TP53())\n",
      "6: Inhibition(HIPK2(), PPM1D())\n",
      "7: Inhibition(CDKN2A(), MDM2())\n",
      "----------------------\n",
      "Assembly took 0.01s\n",
      "Simulation took 0.31s\n",
      "Processing ATM_v1.xml\n",
      "Reading ATM_v1.txt\n",
      "Reading took 8.86s\n",
      "Assembling statements:\n",
      "0: Activation(ATM(activity: True), TP53())\n",
      "1: Activation(TP53(activity: True), PPM1D())\n",
      "2: Activation(TP53(activity: True), MDM2())\n",
      "3: Inhibition(PPM1D(activity: True), TP53())\n",
      "4: Inhibition(PPM1D(activity: True), ATM())\n",
      "5: Inhibition(MDM2(activity: True), TP53())\n",
      "----------------------\n",
      "Assembly took 0.01s\n",
      "Simulation took 0.30s\n",
      "Processing ATM_v2.xml\n",
      "Reading ATM_v2.txt\n",
      "Reading took 13.50s\n",
      "Assembling statements:\n",
      "0: Activation(ATM(activity: True), TP53())\n",
      "1: Activation(TP53(activity: True), PPM1D())\n",
      "2: Activation(TP53(activity: True), MDM2())\n",
      "3: Inhibition(PPM1D(activity: True), TP53())\n",
      "4: Inhibition(PPM1D(activity: True), ATM())\n",
      "5: Inhibition(MDM2(activity: True), TP53())\n",
      "6: Inhibition(HIPK2(), PPM1D())\n",
      "7: Inhibition(CDKN2A(), MDM2())\n",
      "----------------------\n",
      "Assembly took 0.01s\n",
      "Simulation took 0.32s\n",
      "Processing ATM_v3.xml\n",
      "Reading ATM_v3.txt\n",
      "Reading took 16.58s\n",
      "Assembling statements:\n",
      "0: Activation(ATM(activity: True), TP53())\n",
      "1: Activation(TP53(activity: True), PPM1D())\n",
      "2: Activation(TP53(activity: True), MDM2())\n",
      "3: Activation(ATM(activity: True), ATM())\n",
      "4: Inhibition(PPM1D(activity: True), TP53())\n",
      "5: Inhibition(PPM1D(activity: True), ATM())\n",
      "6: Inhibition(MDM2(activity: True), TP53())\n",
      "7: Inhibition(HIPK2(), PPM1D())\n",
      "8: Inhibition(CDKN2A(), MDM2())\n",
      "----------------------\n",
      "Assembly took 0.01s\n",
      "Simulation took 0.33s\n",
      "Processing ATM_v4a.xml\n",
      "Reading ATM_v4a.txt\n",
      "Reading took 21.55s\n",
      "Assembling statements:\n",
      "0: Autophosphorylation(ATM(activity: True))\n",
      "1: Dephosphorylation(PPM1D(activity: True), ATM())\n",
      "2: Ubiquitination(MDM2(), TP53())\n",
      "3: ActiveForm(ATM(mods: (phosphorylation)), activity, True)\n",
      "4: Activation(ATM(activity: True), TP53())\n",
      "5: Activation(TP53(activity: True), PPM1D())\n",
      "6: Inhibition(PPM1D(activity: True), TP53())\n",
      "7: Inhibition(HIPK2(), PPM1D())\n",
      "8: DecreaseAmount(None, MDM2())\n",
      "9: DecreaseAmount(None, TP53(mods: (ubiquitination)))\n",
      "10: IncreaseAmount(None, TP53())\n",
      "11: IncreaseAmount(TP53(activity: True), MDM2())\n",
      "----------------------\n",
      "Assembly took 0.01s\n",
      "Simulation took 0.33s\n",
      "Processing ATM_v4b.xml\n",
      "Reading ATM_v4b.txt\n",
      "Reading took 23.20s\n",
      "Assembling statements:\n",
      "0: Phosphorylation(ATM(activity: True), ATM())\n",
      "1: Dephosphorylation(PPM1D(activity: True), ATM())\n",
      "2: Ubiquitination(MDM2(), TP53())\n",
      "3: ActiveForm(ATM(mods: (phosphorylation)), activity, True)\n",
      "4: Activation(ATM(activity: True), TP53())\n",
      "5: Activation(TP53(activity: True), PPM1D())\n",
      "6: Inhibition(PPM1D(activity: True), TP53())\n",
      "7: Inhibition(HIPK2(), PPM1D())\n",
      "8: DecreaseAmount(None, MDM2())\n",
      "9: DecreaseAmount(None, TP53(mods: (ubiquitination)))\n",
      "10: IncreaseAmount(None, TP53())\n",
      "11: IncreaseAmount(TP53(activity: True), MDM2())\n",
      "----------------------\n",
      "Assembly took 0.01s\n",
      "Simulation took 0.33s\n"
     ]
    },
    {
     "data": {
      "image/png": "[encoded data removed]",
      "text/plain": [
       "<matplotlib.figure.Figure at 0x1346f3b50>"
      ]
     },
     "metadata": {},
     "output_type": "display_data"
    },
    {
     "data": {
      "image/png": "[encoded data removed]",
      "text/plain": [
       "<matplotlib.figure.Figure at 0x135863490>"
      ]
     },
     "metadata": {},
     "output_type": "display_data"
    },
    {
     "data": {
      "image/png": "[encoded data removed]",
      "text/plain": [
       "<matplotlib.figure.Figure at 0x135ad4690>"
      ]
     },
     "metadata": {},
     "output_type": "display_data"
    },
    {
     "data": {
      "image/png": "[encoded data removed]",
      "text/plain": [
       "<matplotlib.figure.Figure at 0x134bd3510>"
      ]
     },
     "metadata": {},
     "output_type": "display_data"
    },
    {
     "data": {
      "image/png": "[encoded data removed]",
      "text/plain": [
       "<matplotlib.figure.Figure at 0x136fa5610>"
      ]
     },
     "metadata": {},
     "output_type": "display_data"
    },
    {
     "data": {
      "image/png": "[encoded data removed]",
      "text/plain": [
       "<matplotlib.figure.Figure at 0x13587ba50>"
      ]
     },
     "metadata": {},
     "output_type": "display_data"
    },
    {
     "data": {
      "image/png": "[encoded data removed]",
      "text/plain": [
       "<matplotlib.figure.Figure at 0x13389d4d0>"
      ]
     },
     "metadata": {},
     "output_type": "display_data"
    },
    {
     "data": {
      "image/png": "[encoded data removed]",
      "text/plain": [
       "<matplotlib.figure.Figure at 0x13633cdd0>"
      ]
     },
     "metadata": {},
     "output_type": "display_data"
    }
   ],
   "source": [
    "if __name__ == '__main__':\n",
    "    reread = False\n",
    "    model_names = ['ATR_v1',\n",
    "                   'ATR_v2',\n",
    "                   'ATR_v3',\n",
    "                   'ATM_v1',\n",
    "                   'ATM_v2',\n",
    "                   'ATM_v3',\n",
    "                   'ATM_v4a',\n",
    "                   'ATM_v4b']\n",
    "    for model_name in model_names:\n",
    "        model = assemble_model(model_name, reread=reread)\n",
    "        ts, solver = run_model(model)\n",
    "        if model_name == 'ATM_v4b':\n",
    "            formats = ['sbml', 'bngl', 'kappa', 'pysb_flat']\n",
    "            export_pomi(model, formats)"
   ]
  },
  {
   "cell_type": "code",
   "execution_count": null,
   "metadata": {
    "collapsed": true
   },
   "outputs": [],
   "source": []
  }
 ],
 "metadata": {
  "anaconda-cloud": {},
  "kernelspec": {
   "display_name": "Python [conda root]",
   "language": "python",
   "name": "conda-root-py"
  },
  "language_info": {
   "codemirror_mode": {
    "name": "ipython",
    "version": 2
   },
   "file_extension": ".py",
   "mimetype": "text/x-python",
   "name": "python",
   "nbconvert_exporter": "python",
   "pygments_lexer": "ipython2",
   "version": "2.7.12"
  }
 },
 "nbformat": 4,
 "nbformat_minor": 1
}
