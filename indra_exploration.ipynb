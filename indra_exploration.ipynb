{
 "cells": [
  {
   "cell_type": "code",
   "execution_count": 1,
   "id": "f3c4cfc4-85df-4437-a575-990de2b196ff",
   "metadata": {},
   "outputs": [],
   "source": [
    "from indra.sources import trips\n",
    "sentence = 'MAP2K1 phosphorylates MAPK3 at Thr-202 and Tyr-204'\n",
    "trips_processor = trips.process_text(sentence)"
   ]
  },
  {
   "cell_type": "code",
   "execution_count": 2,
   "id": "0a2885d8-3a71-4bcd-8d19-2c98485606d0",
   "metadata": {},
   "outputs": [
    {
     "data": {
      "text/plain": [
       "[Phosphorylation(MAP2K1(), MAPK3(), T, 202),\n",
       " Phosphorylation(MAP2K1(), MAPK3(), Y, 204)]"
      ]
     },
     "execution_count": 2,
     "metadata": {},
     "output_type": "execute_result"
    }
   ],
   "source": [
    "trips_processor.statements"
   ]
  },
  {
   "cell_type": "code",
   "execution_count": 3,
   "id": "7c4b51e2-3a18-451c-9ffc-6d831feb4750",
   "metadata": {},
   "outputs": [],
   "source": [
    "from indra.assemblers.english.assembler import EnglishAssembler"
   ]
  },
  {
   "cell_type": "code",
   "execution_count": 4,
   "id": "46c7c11a-b2f1-4098-a6f7-73228ab76d08",
   "metadata": {},
   "outputs": [],
   "source": [
    "assembler = EnglishAssembler(trips_processor.statements)"
   ]
  },
  {
   "cell_type": "code",
   "execution_count": 5,
   "id": "6014e17c-dbe7-40d7-86b5-c3c0ca750cea",
   "metadata": {},
   "outputs": [
    {
     "data": {
      "text/plain": [
       "<indra.assemblers.english.assembler.EnglishAssembler at 0x12ac9ccd0>"
      ]
     },
     "execution_count": 5,
     "metadata": {},
     "output_type": "execute_result"
    }
   ],
   "source": [
    "assembler"
   ]
  },
  {
   "cell_type": "code",
   "execution_count": 6,
   "id": "0aeaa137-0ccf-4601-a04d-37dee0de2693",
   "metadata": {},
   "outputs": [
    {
     "data": {
      "text/plain": [
       "'MAP2K1 phosphorylates MAPK3 on T202. MAP2K1 phosphorylates MAPK3 on Y204.'"
      ]
     },
     "execution_count": 6,
     "metadata": {},
     "output_type": "execute_result"
    }
   ],
   "source": [
    "assembler.make_model()"
   ]
  },
  {
   "cell_type": "code",
   "execution_count": 73,
   "id": "17b651d3-3b32-4fc2-968c-d9e4157118a5",
   "metadata": {},
   "outputs": [
    {
     "name": "stderr",
     "output_type": "stream",
     "text": [
      "INFO: [2023-08-14 12:31:27] indra_db_rest.query_processor - Retrieving statements that have an agent where NAME=TNF with role=SUBJECT.\n",
      "INFO: [2023-08-14 12:31:27] indra_db_rest.request_logs - Running 0th request for statements\n",
      "INFO: [2023-08-14 12:31:27] indra_db_rest.request_logs -   LIMIT: 1000\n",
      "INFO: [2023-08-14 12:31:27] indra_db_rest.request_logs -   OFFSET: 0\n",
      "INFO: [2023-08-14 12:32:49] indra_db_rest.request_logs - Running 1st request for statements\n",
      "INFO: [2023-08-14 12:32:49] indra_db_rest.request_logs -   LIMIT: 500\n",
      "INFO: [2023-08-14 12:32:49] indra_db_rest.request_logs -   OFFSET: 500\n"
     ]
    },
    {
     "data": {
      "text/plain": [
       "[Activation(TNF(), apoptotic process()),\n",
       " Activation(TNF(), NFkappaB()),\n",
       " Activation(TNF(), inflammatory response()),\n",
       " Activation(TNF(), cell death()),\n",
       " Activation(TNF(), cell population proliferation())]"
      ]
     },
     "execution_count": 73,
     "metadata": {},
     "output_type": "execute_result"
    }
   ],
   "source": [
    "from indra.sources.indra_db_rest.api import get_statements\n",
    "p = get_statements(\"TNF\", limit=1000)\n",
    "stmts = p.statements\n",
    "stmts[:5]"
   ]
  },
  {
   "cell_type": "code",
   "execution_count": 74,
   "id": "195e0b8d-2c17-4c4a-9d09-d7b81a484862",
   "metadata": {},
   "outputs": [
    {
     "name": "stderr",
     "output_type": "stream",
     "text": [
      "INFO: [2023-08-14 12:34:10] indra_db_rest.query_processor - Retrieving statements that have an agent where NAME=TNF with role=SUBJECT.\n",
      "INFO: [2023-08-14 12:34:10] indra_db_rest.request_logs - Running 0th request for statements\n",
      "INFO: [2023-08-14 12:34:10] indra_db_rest.request_logs -   LIMIT: 1000\n",
      "INFO: [2023-08-14 12:34:10] indra_db_rest.request_logs -   OFFSET: 0\n",
      "INFO: [2023-08-14 12:34:19] indra_db_rest.request_logs - Running 1st request for statements\n",
      "INFO: [2023-08-14 12:34:19] indra_db_rest.request_logs -   LIMIT: 500\n",
      "INFO: [2023-08-14 12:34:19] indra_db_rest.request_logs -   OFFSET: 500\n"
     ]
    },
    {
     "data": {
      "text/plain": [
       "[Activation(TNF(), apoptotic process()),\n",
       " Activation(TNF(), NFkappaB()),\n",
       " Activation(TNF(), inflammatory response()),\n",
       " Activation(TNF(), cell death()),\n",
       " Activation(TNF(), cell population proliferation())]"
      ]
     },
     "execution_count": 74,
     "metadata": {},
     "output_type": "execute_result"
    }
   ],
   "source": [
    "from indra.sources.indra_db_rest.api import get_statements\n",
    "p = get_statements(\"TNF\", limit=1000)\n",
    "stmts = p.statements\n",
    "stmts[:5]"
   ]
  },
  {
   "cell_type": "code",
   "execution_count": 70,
   "id": "80a0f434-13db-449b-8f57-4b833a68872e",
   "metadata": {
    "jupyter": {
     "source_hidden": true
    }
   },
   "outputs": [],
   "source": [
    "# documentation: https://indra.readthedocs.io/en/latest/modules/sources/indra_db_rest/index.html"
   ]
  },
  {
   "cell_type": "code",
   "execution_count": 9,
   "id": "7bef7ebb-e82c-4c39-950a-2d783dbc0d2a",
   "metadata": {},
   "outputs": [],
   "source": [
    "#import Phosphorylation \n",
    "from indra.statements import Phosphorylation"
   ]
  },
  {
   "cell_type": "code",
   "execution_count": 81,
   "id": "75a7ed50-6c0f-46a1-9dc1-68f63f59315a",
   "metadata": {},
   "outputs": [],
   "source": [
    "# import get_statements_from_query to use function to get statements \n",
    "from indra.sources.indra_db_rest.api import get_statements_from_query\n",
    "# import HasType to specify type of mechanism \n",
    "from indra.sources.indra_db_rest.query import HasType, HasAgent\n",
    "# import HasNumAgents to specify number of agents, import HasNumEvidence to specify number of pieces of evidence statements should contain\n",
    "from indra.sources.indra_db_rest.query import HasNumAgents, HasNumEvidence"
   ]
  },
  {
   "cell_type": "code",
   "execution_count": 83,
   "id": "c3aa3096-ec4e-4746-b919-e9c43fdd4230",
   "metadata": {},
   "outputs": [
    {
     "name": "stderr",
     "output_type": "stream",
     "text": [
      "INFO: [2023-08-14 13:16:22] indra_db_rest.query_processor - Retrieving statements that have 2 agents and have type Phosphorylation.\n",
      "INFO: [2023-08-14 13:16:22] indra_db_rest.request_logs - Running 0th request for statements\n",
      "INFO: [2023-08-14 13:16:22] indra_db_rest.request_logs -   LIMIT: 1000\n",
      "INFO: [2023-08-14 13:16:22] indra_db_rest.request_logs -   OFFSET: 0\n",
      "INFO: [2023-08-14 13:16:28] indra_db_rest.request_logs - Running 1st request for statements\n",
      "INFO: [2023-08-14 13:16:28] indra_db_rest.request_logs -   LIMIT: 500\n",
      "INFO: [2023-08-14 13:16:28] indra_db_rest.request_logs -   OFFSET: 500\n"
     ]
    },
    {
     "data": {
      "text/plain": [
       "[Phosphorylation(INS(), AKT()),\n",
       " Phosphorylation(GSK3B(), CTNNB1()),\n",
       " Phosphorylation(IL6(), STAT3()),\n",
       " Phosphorylation(EIF2AK3(), EIF2S1()),\n",
       " Phosphorylation(IKK_complex(), IKB())]"
      ]
     },
     "execution_count": 83,
     "metadata": {},
     "output_type": "execute_result"
    }
   ],
   "source": [
    "# assign query to all statements with two agents and of type Phosphorylation\n",
    "query = HasNumAgents([2]) & HasType([\"Phosphorylation\"])\n",
    "# pass query through get_statements_from_query function to get all statements containing query, assign a limit to # of statements as needed\n",
    "a = get_statements_from_query(query, limit=1000)\n",
    "# return Phosphorylation statements \n",
    "statements = a.statements\n",
    "statements[:5]"
   ]
  },
  {
   "cell_type": "code",
   "execution_count": 86,
   "id": "b4ba94df-992f-4b22-a1f3-b253b464f72d",
   "metadata": {
    "scrolled": true
   },
   "outputs": [
    {
     "name": "stderr",
     "output_type": "stream",
     "text": [
      "INFO: [2023-08-14 13:17:23] indra_db_rest.query_processor - Retrieving statements that have 1 evidence, have 2 agents, and have type Phosphorylation.\n",
      "INFO: [2023-08-14 13:17:23] indra_db_rest.request_logs - Running 0th request for statements\n",
      "INFO: [2023-08-14 13:17:23] indra_db_rest.request_logs -   LIMIT: 1000\n",
      "INFO: [2023-08-14 13:17:23] indra_db_rest.request_logs -   OFFSET: 0\n",
      "INFO: [2023-08-14 13:17:24] indra_db_rest.request_logs - Running 1st request for statements\n",
      "INFO: [2023-08-14 13:17:24] indra_db_rest.request_logs -   LIMIT: 500\n",
      "INFO: [2023-08-14 13:17:24] indra_db_rest.request_logs -   OFFSET: 500\n"
     ]
    },
    {
     "data": {
      "text/plain": [
       "[Phosphorylation(SMAD2_3(), runt()),\n",
       " Phosphorylation(Interferon(), N-nitrosodiethylamine(), Y),\n",
       " Phosphorylation(MST1(), MYO9B()),\n",
       " Phosphorylation(coumestrol(), ERK()),\n",
       " Phosphorylation(bisindolylmaleimide I(), OCLN())]"
      ]
     },
     "execution_count": 86,
     "metadata": {},
     "output_type": "execute_result"
    }
   ],
   "source": [
    "# assign query to also all statements which contain the least amount of evidence \n",
    "query = HasNumAgents([2]) & HasType([\"Phosphorylation\"]) & HasNumEvidence([1])\n",
    "# pass query through get_statements_from_query function to get all statements containing query, assign a limit to # of statements as needed\n",
    "a = get_statements_from_query(query, limit=1000)\n",
    "# return Phosphorylation statements with the least amount of evidence\n",
    "statements = a.statements\n",
    "statements[:5]"
   ]
  },
  {
   "cell_type": "code",
   "execution_count": 92,
   "id": "edac16a8-b7d4-4e8f-a168-095185013432",
   "metadata": {},
   "outputs": [
    {
     "name": "stderr",
     "output_type": "stream",
     "text": [
      "INFO: [2023-08-14 13:30:48] indra_db_rest.query_processor - Retrieving statements that have 2 agents, have 500 evidence, and have type Phosphorylation.\n",
      "INFO: [2023-08-14 13:30:48] indra_db_rest.request_logs - Running 0th request for statements\n",
      "INFO: [2023-08-14 13:30:48] indra_db_rest.request_logs -   LIMIT: 1000\n",
      "INFO: [2023-08-14 13:30:48] indra_db_rest.request_logs -   OFFSET: 0\n"
     ]
    },
    {
     "data": {
      "text/plain": [
       "[Phosphorylation(lipopolysaccharide(), JNK())]"
      ]
     },
     "execution_count": 92,
     "metadata": {},
     "output_type": "execute_result"
    }
   ],
   "source": [
    "# assign query to also all statements which contain the most amount of evidence \n",
    "query = HasNumAgents([2]) & HasType([\"Phosphorylation\"]) & HasNumEvidence([500])\n",
    "# pass query through get_statements_from_query function to get all statements containing query, assign a limit to # of statements as needed\n",
    "a = get_statements_from_query(query, limit=1000)\n",
    "# return Phosphorylation statements with the most amount of evidence\n",
    "statements = a.statements\n",
    "statements[:5]"
   ]
  },
  {
   "cell_type": "code",
   "execution_count": 121,
   "id": "3e7381a0-51e0-4e00-b22e-3493d95886d5",
   "metadata": {},
   "outputs": [
    {
     "name": "stderr",
     "output_type": "stream",
     "text": [
      "INFO: [2023-08-14 14:59:56] indra_db_rest.query_processor - Retrieving statements that have 2 agents and have type Phosphorylation.\n",
      "INFO: [2023-08-14 14:59:56] indra_db_rest.request_logs - Running 0th request for statements\n",
      "INFO: [2023-08-14 14:59:56] indra_db_rest.request_logs -   LIMIT: 1000\n",
      "INFO: [2023-08-14 14:59:56] indra_db_rest.request_logs -   OFFSET: 0\n",
      "INFO: [2023-08-14 15:00:02] indra_db_rest.request_logs - Running 1st request for statements\n",
      "INFO: [2023-08-14 15:00:02] indra_db_rest.request_logs -   LIMIT: 500\n",
      "INFO: [2023-08-14 15:00:02] indra_db_rest.request_logs -   OFFSET: 500\n"
     ]
    },
    {
     "name": "stdout",
     "output_type": "stream",
     "text": [
      "[Phosphorylation(INS(), AKT()), Phosphorylation(GSK3B(), CTNNB1()), Phosphorylation(IL6(), STAT3()), Phosphorylation(EIF2AK3(), EIF2S1()), Phosphorylation(IKK_complex(), IKB())]\n",
      "[Phosphorylation(AKT(), AR(), S, 215), Phosphorylation(PI3K(), FOXO1()), Phosphorylation(PYD1(), PC()), Phosphorylation(ATM(), MRE11()), Phosphorylation(RAF(), MAPK())]\n"
     ]
    }
   ],
   "source": [
    "#to rank list of Phosphorylation statements by number of evidence\n",
    "query = HasNumAgents([2]) & HasType([\"Phosphorylation\"])\n",
    "a = get_statements_from_query(query, limit=1000, sort_by='ev_count')\n",
    "statements = a.statements\n",
    "first_five = statements[:5]\n",
    "last_five = statements[-5:]\n",
    "print(first_five) #outputting the five statements with the least amount of evidence\n",
    "print(last_five) # outputting the five statements with the most amount of evidence  "
   ]
  },
  {
   "cell_type": "code",
   "execution_count": 129,
   "id": "db3cb820-0e48-4f90-b9fe-c48991514736",
   "metadata": {},
   "outputs": [
    {
     "name": "stderr",
     "output_type": "stream",
     "text": [
      "INFO: [2023-08-14 18:45:30] indra_db_rest.query_processor - Retrieving statements that have 2 agents, have an agent where NAME=STAT3 with role=OBJECT, have an agent where NAME=STAT3 with role=SUBJECT, and have type Phosphorylation.\n",
      "INFO: [2023-08-14 18:45:30] indra_db_rest.request_logs - Running 0th request for statements\n",
      "INFO: [2023-08-14 18:45:30] indra_db_rest.request_logs -   LIMIT: 1000\n",
      "INFO: [2023-08-14 18:45:30] indra_db_rest.request_logs -   OFFSET: 0\n"
     ]
    },
    {
     "data": {
      "text/plain": [
       "[Phosphorylation(STAT3(), STAT3()),\n",
       " Phosphorylation(STAT3(), STAT3(), Y, 705),\n",
       " Phosphorylation(STAT3(), STAT3(), S, 727),\n",
       " Phosphorylation(STAT3(), STAT3(), Y),\n",
       " Phosphorylation(STAT3(mods: (phosphorylation)), STAT3()),\n",
       " Phosphorylation(STAT3(mods: (modification)), STAT3()),\n",
       " Phosphorylation(STAT3(muts: (None, None, None)), STAT3()),\n",
       " Phosphorylation(STAT3(), STAT3(), S),\n",
       " Phosphorylation(STAT3(mods: (phosphorylation)), STAT3(), Y, 705),\n",
       " Phosphorylation(STAT3(muts: (None, None, None)), STAT3(), Y, 705),\n",
       " Phosphorylation(STAT3(mods: (phosphorylation, Y)), STAT3(), Y, 705),\n",
       " Phosphorylation(STAT3(mods: (acetylation, K, 685)), STAT3()),\n",
       " Phosphorylation(STAT3(mods: (phosphorylation, Y, 705)), STAT3(), S, 727),\n",
       " Phosphorylation(STAT3(mods: (modification), muts: (K, 451, R)), STAT3()),\n",
       " Phosphorylation(STAT3(muts: (Y, 640, F)), STAT3(), Y, 705),\n",
       " Phosphorylation(STAT3(mods: (phosphorylation, S)), STAT3(), S),\n",
       " Phosphorylation(STAT3(mods: (phosphorylation, S)), STAT3(), Y),\n",
       " Phosphorylation(STAT3(mods: (phosphorylation, S, 727)), STAT3(), Y, 705),\n",
       " Phosphorylation(STAT3(mods: (modification), muts: (None, None, None)), STAT3()),\n",
       " Phosphorylation(STAT3(mods: (phosphorylation, S, 727)), STAT3()),\n",
       " Phosphorylation(STAT3(mods: (acetylation)), STAT3()),\n",
       " Phosphorylation(STAT3(), STAT3(), K, 451),\n",
       " Phosphorylation(STAT3(mods: (phosphorylation, Y, 705)), STAT3(), Y, 705)]"
      ]
     },
     "execution_count": 129,
     "metadata": {},
     "output_type": "execute_result"
    }
   ],
   "source": [
    "#to check for statements where the same entity appears as the subject and object\n",
    "\n",
    "query = HasNumAgents([2]) & HasType([\"Phosphorylation\"]) & HasAgent(\"STAT3\", role=\"SUBJECT\") & HasAgent(\"STAT3\", role=\"OBJECT\")\n",
    "a = get_statements_from_query(query, limit=1000)\n",
    "statements = a.statements \n",
    "statements"
   ]
  }
 ],
 "metadata": {
  "kernelspec": {
   "display_name": "Python 3 (ipykernel)",
   "language": "python",
   "name": "python3"
  },
  "language_info": {
   "codemirror_mode": {
    "name": "ipython",
    "version": 3
   },
   "file_extension": ".py",
   "mimetype": "text/x-python",
   "name": "python",
   "nbconvert_exporter": "python",
   "pygments_lexer": "ipython3",
   "version": "3.9.8"
  }
 },
 "nbformat": 4,
 "nbformat_minor": 5
}
